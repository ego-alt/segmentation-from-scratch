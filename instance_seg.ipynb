{
  "nbformat": 4,
  "nbformat_minor": 0,
  "metadata": {
    "kernelspec": {
      "display_name": "Python 3",
      "language": "python",
      "name": "python3"
    },
    "language_info": {
      "codemirror_mode": {
        "name": "ipython",
        "version": 2
      },
      "file_extension": ".py",
      "mimetype": "text/x-python",
      "name": "python",
      "nbconvert_exporter": "python",
      "pygments_lexer": "ipython2",
      "version": "2.7.6"
    },
    "colab": {
      "name": "instance_seg.ipynb",
      "provenance": []
    }
  },
  "cells": [
    {
      "cell_type": "code",
      "metadata": {
        "collapsed": true,
        "id": "_60jx2kxE92Q",
        "outputId": "8e45f9b9-b8b9-4c68-a384-2f5e014a014b",
        "colab": {
          "base_uri": "https://localhost:8080/"
        }
      },
      "source": [
        "!wget https://cildata.crbs.ucsd.edu/ccdb//telescience/home/CCDB_DATA_USER.portal/P2043/Experiment_6835/Subject_6837/Tissue_6840/Microscopy_6843/MP6843_img_full.zip\n",
        "!wget https://cildata.crbs.ucsd.edu/ccdb//telescience/home/CCDB_DATA_USER.portal/P2043/Experiment_6835/Subject_6837/Tissue_6840/Microscopy_6843/MP6843_seg.zip\n",
        "!unzip -o -d ./images MP6843_img_full.zip\n",
        "!unzip -o -d ./labels MP6843_seg.zip\n",
        "!rm *.zip"
      ],
      "execution_count": 2,
      "outputs": [
        {
          "output_type": "stream",
          "text": [
            "--2021-08-03 07:57:01--  https://cildata.crbs.ucsd.edu/ccdb//telescience/home/CCDB_DATA_USER.portal/P2043/Experiment_6835/Subject_6837/Tissue_6840/Microscopy_6843/MP6843_img_full.zip\n",
            "Resolving cildata.crbs.ucsd.edu (cildata.crbs.ucsd.edu)... 67.58.57.218\n",
            "Connecting to cildata.crbs.ucsd.edu (cildata.crbs.ucsd.edu)|67.58.57.218|:443... connected.\n",
            "HTTP request sent, awaiting response... 200 OK\n",
            "Length: 240194618 (229M) [application/zip]\n",
            "Saving to: ‘MP6843_img_full.zip’\n",
            "\n",
            "MP6843_img_full.zip 100%[===================>] 229.07M  2.54MB/s    in 80s     \n",
            "\n",
            "2021-08-03 07:58:21 (2.87 MB/s) - ‘MP6843_img_full.zip’ saved [240194618/240194618]\n",
            "\n",
            "--2021-08-03 07:58:21--  https://cildata.crbs.ucsd.edu/ccdb//telescience/home/CCDB_DATA_USER.portal/P2043/Experiment_6835/Subject_6837/Tissue_6840/Microscopy_6843/MP6843_seg.zip\n",
            "Resolving cildata.crbs.ucsd.edu (cildata.crbs.ucsd.edu)... 67.58.57.218\n",
            "Connecting to cildata.crbs.ucsd.edu (cildata.crbs.ucsd.edu)|67.58.57.218|:443... connected.\n",
            "HTTP request sent, awaiting response... 200 OK\n",
            "Length: 4360574 (4.2M) [application/zip]\n",
            "Saving to: ‘MP6843_seg.zip’\n",
            "\n",
            "MP6843_seg.zip      100%[===================>]   4.16M  3.99MB/s    in 1.0s    \n",
            "\n",
            "2021-08-03 07:58:39 (3.99 MB/s) - ‘MP6843_seg.zip’ saved [4360574/4360574]\n",
            "\n",
            "Archive:  MP6843_img_full.zip\n",
            "  inflating: ./images/F01_120w1.TIF  \n",
            "  inflating: ./images/F01_120w2.TIF  \n",
            "  inflating: ./images/F01_1296w1.TIF  \n",
            "  inflating: ./images/F01_1296w2.TIF  \n",
            "  inflating: ./images/F01_1377w1.TIF  \n",
            "  inflating: ./images/F01_1377w2.TIF  \n",
            "  inflating: ./images/F01_1457w1.TIF  \n",
            "  inflating: ./images/F01_1457w2.TIF  \n",
            "  inflating: ./images/F01_1464w1.TIF  \n",
            "  inflating: ./images/F01_1464w2.TIF  \n",
            "  inflating: ./images/F01_1465w1.TIF  \n",
            "  inflating: ./images/F01_1465w2.TIF  \n",
            "  inflating: ./images/F01_1467w1.TIF  \n",
            "  inflating: ./images/F01_1467w2.TIF  \n",
            "  inflating: ./images/F01_1489w1.TIF  \n",
            "  inflating: ./images/F01_1489w2.TIF  \n",
            "  inflating: ./images/F01_1508w1.TIF  \n",
            "  inflating: ./images/F01_1508w2.TIF  \n",
            "  inflating: ./images/F01_1511w1.TIF  \n",
            "  inflating: ./images/F01_1511w2.TIF  \n",
            "  inflating: ./images/F01_1563w1.TIF  \n",
            "  inflating: ./images/F01_1563w2.TIF  \n",
            "  inflating: ./images/F01_1615w1.TIF  \n",
            "  inflating: ./images/F01_1615w2.TIF  \n",
            "  inflating: ./images/F01_202w1.TIF  \n",
            "  inflating: ./images/F01_202w2.TIF  \n",
            "  inflating: ./images/F01_204w1.TIF  \n",
            "  inflating: ./images/F01_204w2.TIF  \n",
            "  inflating: ./images/F01_291w1.TIF  \n",
            "  inflating: ./images/F01_291w2.TIF  \n",
            "  inflating: ./images/F01_366w1.TIF  \n",
            "  inflating: ./images/F01_366w2.TIF  \n",
            "  inflating: ./images/F01_508w1.TIF  \n",
            "  inflating: ./images/F01_508w2.TIF  \n",
            "  inflating: ./images/F01_589w1.TIF  \n",
            "  inflating: ./images/F01_589w2.TIF  \n",
            "  inflating: ./images/F01_621w1.TIF  \n",
            "  inflating: ./images/F01_621w2.TIF  \n",
            "  inflating: ./images/F01_706w1.TIF  \n",
            "  inflating: ./images/F01_706w2.TIF  \n",
            "  inflating: ./images/F01_732w1.TIF  \n",
            "  inflating: ./images/F01_732w2.TIF  \n",
            "  inflating: ./images/F01_837w1.TIF  \n",
            "  inflating: ./images/F01_837w2.TIF  \n",
            "  inflating: ./images/F01_840w1.TIF  \n",
            "  inflating: ./images/F01_840w2.TIF  \n",
            "  inflating: ./images/F01_884w1.TIF  \n",
            "  inflating: ./images/F01_884w2.TIF  \n",
            "  inflating: ./images/F01_972w1.TIF  \n",
            "  inflating: ./images/F01_972w2.TIF  \n",
            "  inflating: ./images/F02_1088w1.TIF  \n",
            "  inflating: ./images/F02_1088w2.TIF  \n",
            "  inflating: ./images/F02_110w1.TIF  \n",
            "  inflating: ./images/F02_110w2.TIF  \n",
            "  inflating: ./images/F02_1119w1.TIF  \n",
            "  inflating: ./images/F02_1119w2.TIF  \n",
            "  inflating: ./images/F02_1132w1.TIF  \n",
            "  inflating: ./images/F02_1132w2.TIF  \n",
            "  inflating: ./images/F02_1147w1.TIF  \n",
            "  inflating: ./images/F02_1147w2.TIF  \n",
            "  inflating: ./images/F02_1211w1.TIF  \n",
            "  inflating: ./images/F02_1211w2.TIF  \n",
            "  inflating: ./images/F02_1214w1.TIF  \n",
            "  inflating: ./images/F02_1214w2.TIF  \n",
            "  inflating: ./images/F02_1296w1.TIF  \n",
            "  inflating: ./images/F02_1296w2.TIF  \n",
            "  inflating: ./images/F02_1297w1.TIF  \n",
            "  inflating: ./images/F02_1297w2.TIF  \n",
            "  inflating: ./images/F02_1323w1.TIF  \n",
            "  inflating: ./images/F02_1323w2.TIF  \n",
            "  inflating: ./images/F02_1377w1.TIF  \n",
            "  inflating: ./images/F02_1377w2.TIF  \n",
            "  inflating: ./images/F02_1387w1.TIF  \n",
            "  inflating: ./images/F02_1387w2.TIF  \n",
            "  inflating: ./images/F02_1388w1.TIF  \n",
            "  inflating: ./images/F02_1388w2.TIF  \n",
            "  inflating: ./images/F02_1389w1.TIF  \n",
            "  inflating: ./images/F02_1389w2.TIF  \n",
            "  inflating: ./images/F02_1419w1.TIF  \n",
            "  inflating: ./images/F02_1419w2.TIF  \n",
            "  inflating: ./images/F02_1422w1.TIF  \n",
            "  inflating: ./images/F02_1422w2.TIF  \n",
            "  inflating: ./images/F02_1424w1.TIF  \n",
            "  inflating: ./images/F02_1424w2.TIF  \n",
            "  inflating: ./images/F02_1432w1.TIF  \n",
            "  inflating: ./images/F02_1432w2.TIF  \n",
            "  inflating: ./images/F02_321w1.TIF  \n",
            "  inflating: ./images/F02_321w2.TIF  \n",
            "  inflating: ./images/F02_370w1.TIF  \n",
            "  inflating: ./images/F02_370w2.TIF  \n",
            "  inflating: ./images/F02_696w1.TIF  \n",
            "  inflating: ./images/F02_696w2.TIF  \n",
            "  inflating: ./images/F02_776w1.TIF  \n",
            "  inflating: ./images/F02_776w2.TIF  \n",
            "  inflating: ./images/F02_821w1.TIF  \n",
            "  inflating: ./images/F02_821w2.TIF  \n",
            "  inflating: ./images/F02_857w1.TIF  \n",
            "  inflating: ./images/F02_857w2.TIF  \n",
            "  inflating: ./images/F02_92w1.TIF   \n",
            "  inflating: ./images/F02_92w2.TIF   \n",
            "  inflating: ./images/F03_1036w1.TIF  \n",
            "  inflating: ./images/F03_1036w2.TIF  \n",
            "  inflating: ./images/F03_1037w1.TIF  \n",
            "  inflating: ./images/F03_1037w2.TIF  \n",
            "  inflating: ./images/F03_1040w1.TIF  \n",
            "  inflating: ./images/F03_1040w2.TIF  \n",
            "  inflating: ./images/F03_1093w1.TIF  \n",
            "  inflating: ./images/F03_1093w2.TIF  \n",
            "  inflating: ./images/F03_1107w1.TIF  \n",
            "  inflating: ./images/F03_1107w2.TIF  \n",
            "  inflating: ./images/F03_1125w1.TIF  \n",
            "  inflating: ./images/F03_1125w2.TIF  \n",
            "  inflating: ./images/F03_1299w1.TIF  \n",
            "  inflating: ./images/F03_1299w2.TIF  \n",
            "  inflating: ./images/F03_1319w1.TIF  \n",
            "  inflating: ./images/F03_1319w2.TIF  \n",
            "  inflating: ./images/F03_1429w1.TIF  \n",
            "  inflating: ./images/F03_1429w2.TIF  \n",
            "  inflating: ./images/F03_1461w1.TIF  \n",
            "  inflating: ./images/F03_1461w2.TIF  \n",
            "  inflating: ./images/F03_1472w1.TIF  \n",
            "  inflating: ./images/F03_1472w2.TIF  \n",
            "  inflating: ./images/F03_171w1.TIF  \n",
            "  inflating: ./images/F03_171w2.TIF  \n",
            "  inflating: ./images/F03_176w1.TIF  \n",
            "  inflating: ./images/F03_176w2.TIF  \n",
            "  inflating: ./images/F03_256w1.TIF  \n",
            "  inflating: ./images/F03_256w2.TIF  \n",
            "  inflating: ./images/F03_258w1.TIF  \n",
            "  inflating: ./images/F03_258w2.TIF  \n",
            "  inflating: ./images/F03_25w1.TIF   \n",
            "  inflating: ./images/F03_25w2.TIF   \n",
            "  inflating: ./images/F03_44w1.TIF   \n",
            "  inflating: ./images/F03_44w2.TIF   \n",
            "  inflating: ./images/F03_644w1.TIF  \n",
            "  inflating: ./images/F03_644w2.TIF  \n",
            "  inflating: ./images/F03_738w1.TIF  \n",
            "  inflating: ./images/F03_738w2.TIF  \n",
            "  inflating: ./images/F03_787w1.TIF  \n",
            "  inflating: ./images/F03_787w2.TIF  \n",
            "  inflating: ./images/F03_812w1.TIF  \n",
            "  inflating: ./images/F03_812w2.TIF  \n",
            "  inflating: ./images/F03_815w1.TIF  \n",
            "  inflating: ./images/F03_815w2.TIF  \n",
            "  inflating: ./images/F03_906w1.TIF  \n",
            "  inflating: ./images/F03_906w2.TIF  \n",
            "  inflating: ./images/F03_942w1.TIF  \n",
            "  inflating: ./images/F03_942w2.TIF  \n",
            "  inflating: ./images/F03_976w1.TIF  \n",
            "  inflating: ./images/F03_976w2.TIF  \n",
            "  inflating: ./images/F04_1043w1.TIF  \n",
            "  inflating: ./images/F04_1043w2.TIF  \n",
            "  inflating: ./images/F04_1056w1.TIF  \n",
            "  inflating: ./images/F04_1056w2.TIF  \n",
            "  inflating: ./images/F04_1103w1.TIF  \n",
            "  inflating: ./images/F04_1103w2.TIF  \n",
            "  inflating: ./images/F04_1104w1.TIF  \n",
            "  inflating: ./images/F04_1104w2.TIF  \n",
            "  inflating: ./images/F04_118w1.TIF  \n",
            "  inflating: ./images/F04_118w2.TIF  \n",
            "  inflating: ./images/F04_1209w1.TIF  \n",
            "  inflating: ./images/F04_1209w2.TIF  \n",
            "  inflating: ./images/F04_1244w1.TIF  \n",
            "  inflating: ./images/F04_1244w2.TIF  \n",
            "  inflating: ./images/F04_1270w1.TIF  \n",
            "  inflating: ./images/F04_1270w2.TIF  \n",
            "  inflating: ./images/F04_1273w1.TIF  \n",
            "  inflating: ./images/F04_1273w2.TIF  \n",
            "  inflating: ./images/F04_1273w2.TIF  \n",
            "  inflating: ./images/F04_159w1.TIF  \n",
            "  inflating: ./images/F04_159w2.TIF  \n",
            "  inflating: ./images/F04_199w1.TIF  \n",
            "  inflating: ./images/F04_199w2.TIF  \n",
            "  inflating: ./images/F04_208w1.TIF  \n",
            "  inflating: ./images/F04_208w2.TIF  \n",
            "  inflating: ./images/F04_263w1.TIF  \n",
            "  inflating: ./images/F04_263w2.TIF  \n",
            "  inflating: ./images/F04_29w1.TIF   \n",
            "  inflating: ./images/F04_29w2.TIF   \n",
            "  inflating: ./images/F04_342w1.TIF  \n",
            "  inflating: ./images/F04_342w2.TIF  \n",
            "  inflating: ./images/F04_343w1.TIF  \n",
            "  inflating: ./images/F04_343w2.TIF  \n",
            "  inflating: ./images/F04_484w1.TIF  \n",
            "  inflating: ./images/F04_484w2.TIF  \n",
            "  inflating: ./images/F04_489w1.TIF  \n",
            "  inflating: ./images/F04_489w2.TIF  \n",
            "  inflating: ./images/F04_585w1.TIF  \n",
            "  inflating: ./images/F04_585w2.TIF  \n",
            "  inflating: ./images/F04_69w1.TIF   \n",
            "  inflating: ./images/F04_69w2.TIF   \n",
            "  inflating: ./images/F04_706w1.TIF  \n",
            "  inflating: ./images/F04_706w2.TIF  \n",
            "  inflating: ./images/F04_812w1.TIF  \n",
            "  inflating: ./images/F04_812w2.TIF  \n",
            "  inflating: ./images/F04_815w1.TIF  \n",
            "  inflating: ./images/F04_815w2.TIF  \n",
            "  inflating: ./images/F04_821w1.TIF  \n",
            "  inflating: ./images/F04_821w2.TIF  \n",
            "  inflating: ./images/F04_862w1.TIF  \n",
            "  inflating: ./images/F04_862w2.TIF  \n",
            "Archive:  MP6843_seg.zip\n",
            "  inflating: ./labels/F01_120_GT_01.tif  \n",
            "  inflating: ./labels/F01_120_GT_02.tif  \n",
            "  inflating: ./labels/F01_1296_GT_01.tif  \n",
            "  inflating: ./labels/F01_1296_GT_02.tif  \n",
            "  inflating: ./labels/F01_1377_GT_01.tif  \n",
            "  inflating: ./labels/F01_1377_GT_02.tif  \n",
            "  inflating: ./labels/F01_1457_GT_01.tif  \n",
            "  inflating: ./labels/F01_1457_GT_02.tif  \n",
            "  inflating: ./labels/F01_1464_GT_01.tif  \n",
            "  inflating: ./labels/F01_1464_GT_02.tif  \n",
            "  inflating: ./labels/F01_1465_GT_01.tif  \n",
            "  inflating: ./labels/F01_1465_GT_02.tif  \n",
            "  inflating: ./labels/F01_1467_GT_01.tif  \n",
            "  inflating: ./labels/F01_1467_GT_02.tif  \n",
            "  inflating: ./labels/F01_1489_GT_01.tif  \n",
            "  inflating: ./labels/F01_1489_GT_02.tif  \n",
            "  inflating: ./labels/F01_1508_GT_01.tif  \n",
            "  inflating: ./labels/F01_1508_GT_02.tif  \n",
            "  inflating: ./labels/F01_1511_GT_01.tif  \n",
            "  inflating: ./labels/F01_1511_GT_02.tif  \n",
            "  inflating: ./labels/F01_1563_GT_01.tif  \n",
            "  inflating: ./labels/F01_1563_GT_02.tif  \n",
            "  inflating: ./labels/F01_1615_GT_01.tif  \n",
            "  inflating: ./labels/F01_1615_GT_02.tif  \n",
            "  inflating: ./labels/F01_202_GT_01.tif  \n",
            "  inflating: ./labels/F01_204_GT_01.tif  \n",
            "  inflating: ./labels/F01_291_GT_01.tif  \n",
            "  inflating: ./labels/F01_291_GT_02.tif  \n",
            "  inflating: ./labels/F01_366_GT_01.tif  \n",
            "  inflating: ./labels/F01_366_GT_02.tif  \n",
            "  inflating: ./labels/F01_508_GT_01.tif  \n",
            "  inflating: ./labels/F01_508_GT_02.tif  \n",
            "  inflating: ./labels/F01_589_GT_01.tif  \n",
            "  inflating: ./labels/F01_621_GT_01.tif  \n",
            "  inflating: ./labels/F01_621_GT_02.tif  \n",
            "  inflating: ./labels/F01_706_GT_01.tif  \n",
            "  inflating: ./labels/F01_706_GT_02.tif  \n",
            "  inflating: ./labels/F01_732_GT_01.tif  \n",
            "  inflating: ./labels/F01_732_GT_02.tif  \n",
            "  inflating: ./labels/F01_837_GT_01.tif  \n",
            "  inflating: ./labels/F01_837_GT_02.tif  \n",
            "  inflating: ./labels/F01_840_GT_01.tif  \n",
            "  inflating: ./labels/F01_840_GT_02.tif  \n",
            "  inflating: ./labels/F01_884_GT_01.tif  \n",
            "  inflating: ./labels/F01_884_GT_02.tif  \n",
            "  inflating: ./labels/F01_972_GT_01.tif  \n",
            "  inflating: ./labels/F01_972_GT_02.tif  \n",
            "  inflating: ./labels/F02_1088_GT_01.tif  \n",
            "  inflating: ./labels/F02_110_GT_01.tif  \n",
            "  inflating: ./labels/F02_110_GT_02.tif  \n",
            "  inflating: ./labels/F02_1119_GT_01.tif  \n",
            "  inflating: ./labels/F02_1132_GT_01.tif  \n",
            "  inflating: ./labels/F02_1132_GT_02.tif  \n",
            "  inflating: ./labels/F02_1147_GT_01.tif  \n",
            "  inflating: ./labels/F02_1147_GT_02.tif  \n",
            "  inflating: ./labels/F02_1211_GT_01.tif  \n",
            "  inflating: ./labels/F02_1214_GT_01.tif  \n",
            "  inflating: ./labels/F02_1296_GT_01.tif  \n",
            "  inflating: ./labels/F02_1296_GT_02.tif  \n",
            "  inflating: ./labels/F02_1297_GT_01.tif  \n",
            "  inflating: ./labels/F02_1297_GT_02.tif  \n",
            "  inflating: ./labels/F02_1323_GT_01.tif  \n",
            "  inflating: ./labels/F02_1323_GT_02.tif  \n",
            "  inflating: ./labels/F02_1377_GT_01.tif  \n",
            "  inflating: ./labels/F02_1377_GT_02.tif  \n",
            "  inflating: ./labels/F02_1387_GT_01.tif  \n",
            "  inflating: ./labels/F02_1388_GT_01.tif  \n",
            "  inflating: ./labels/F02_1389_GT_01.tif  \n",
            "  inflating: ./labels/F02_1389_GT_02.tif  \n",
            "  inflating: ./labels/F02_1419_GT_01.tif  \n",
            "  inflating: ./labels/F02_1419_GT_02.tif  \n",
            "  inflating: ./labels/F02_1422_GT_01.tif  \n",
            "  inflating: ./labels/F02_1422_GT_02.tif  \n",
            "  inflating: ./labels/F02_1424_GT_01.tif  \n",
            "  inflating: ./labels/F02_1424_GT_02.tif  \n",
            "  inflating: ./labels/F02_1432_GT_01.tif  \n",
            "  inflating: ./labels/F02_1432_GT_02.tif  \n",
            "  inflating: ./labels/F02_321_GT_01.tif  \n",
            "  inflating: ./labels/F02_370_GT_01.tif  \n",
            "  inflating: ./labels/F02_370_GT_02.tif  \n",
            "  inflating: ./labels/F02_696_GT_01.tif  \n",
            "  inflating: ./labels/F02_696_GT_02.tif  \n",
            "  inflating: ./labels/F02_696_GT_03.tif  \n",
            "  inflating: ./labels/F02_776_GT_01.tif  \n",
            "  inflating: ./labels/F02_776_GT_02.tif  \n",
            "  inflating: ./labels/F02_821_GT_01.tif  \n",
            "  inflating: ./labels/F02_821_GT_02.tif  \n",
            "  inflating: ./labels/F02_857_GT_01.tif  \n",
            "  inflating: ./labels/F02_857_GT_02.tif  \n",
            "  inflating: ./labels/F02_92_GT_01.tif  \n",
            "  inflating: ./labels/F02_92_GT_02.tif  \n",
            "  inflating: ./labels/F03_1036_GT_01.tif  \n",
            "  inflating: ./labels/F03_1036_GT_02.tif  \n",
            "  inflating: ./labels/F03_1037_GT_01.tif  \n",
            "  inflating: ./labels/F03_1037_GT_02.tif  \n",
            "  inflating: ./labels/F03_1040_GT_01.tif  \n",
            "  inflating: ./labels/F03_1040_GT_02.tif  \n",
            "  inflating: ./labels/F03_1093_GT_01.tif  \n",
            "  inflating: ./labels/F03_1107_GT_01.tif  \n",
            "  inflating: ./labels/F03_1125_GT_01.tif  \n",
            "  inflating: ./labels/F03_1299_GT_01.tif  \n",
            "  inflating: ./labels/F03_1319_GT_01.tif  \n",
            "  inflating: ./labels/F03_1319_GT_02.tif  \n",
            "  inflating: ./labels/F03_1429_GT_01.tif  \n",
            "  inflating: ./labels/F03_1461_GT_01.tif  \n",
            "  inflating: ./labels/F03_1472_GT_01.tif  \n",
            "  inflating: ./labels/F03_171_GT_01.tif  \n",
            "  inflating: ./labels/F03_171_GT_02.tif  \n",
            "  inflating: ./labels/F03_176_GT_01.tif  \n",
            "  inflating: ./labels/F03_176_GT_02.tif  \n",
            "  inflating: ./labels/F03_256_GT_01.tif  \n",
            "  inflating: ./labels/F03_258_GT_01.tif  \n",
            "  inflating: ./labels/F03_258_GT_02.tif  \n",
            "  inflating: ./labels/F03_25_GT_01.tif  \n",
            "  inflating: ./labels/F03_25_GT_02.tif  \n",
            "  inflating: ./labels/F03_44_GT_01.tif  \n",
            "  inflating: ./labels/F03_644_GT_01.tif  \n",
            "  inflating: ./labels/F03_738_GT_01.tif  \n",
            "  inflating: ./labels/F03_738_GT_02.tif  \n",
            "  inflating: ./labels/F03_787_GT_01.tif  \n",
            "  inflating: ./labels/F03_787_GT_02.tif  \n",
            "  inflating: ./labels/F03_812_GT_01.tif  \n",
            "  inflating: ./labels/F03_815_GT_01.tif  \n",
            "  inflating: ./labels/F03_906_GT_01.tif  \n",
            "  inflating: ./labels/F03_906_GT_02.tif  \n",
            "  inflating: ./labels/F03_942_GT_01.tif  \n",
            "  inflating: ./labels/F03_976_GT_01.tif  \n",
            "  inflating: ./labels/F04_1043_GT_01.tif  \n",
            "  inflating: ./labels/F04_1043_GT_02.tif  \n",
            "  inflating: ./labels/F04_1056_GT_01.tif  \n",
            "  inflating: ./labels/F04_1103_GT_01.tif  \n",
            "  inflating: ./labels/F04_1103_GT_02.tif  \n",
            "  inflating: ./labels/F04_1104_GT_01.tif  \n",
            "  inflating: ./labels/F04_118_GT_01.tif  \n",
            "  inflating: ./labels/F04_118_GT_02.tif  \n",
            "  inflating: ./labels/F04_1209_GT_01.tif  \n",
            "  inflating: ./labels/F04_1244_GT_01.tif  \n",
            "  inflating: ./labels/F04_1244_GT_02.tif  \n",
            "  inflating: ./labels/F04_1270_GT_01.tif  \n",
            "  inflating: ./labels/F04_1270_GT_02.tif  \n",
            "  inflating: ./labels/F04_1273_GT_01.tif  \n",
            "  inflating: ./labels/F04_159_GT_01.tif  \n",
            "  inflating: ./labels/F04_159_GT_02.tif  \n",
            "  inflating: ./labels/F04_199_GT_01.tif  \n",
            "  inflating: ./labels/F04_199_GT_02.tif  \n",
            "  inflating: ./labels/F04_208_GT_01.tif  \n",
            "  inflating: ./labels/F04_263_GT_01.tif  \n",
            "  inflating: ./labels/F04_263_GT_02.tif  \n",
            "  inflating: ./labels/F04_29_GT_01.tif  \n",
            "  inflating: ./labels/F04_29_GT_02.tif  \n",
            "  inflating: ./labels/F04_342_GT_01.tif  \n",
            "  inflating: ./labels/F04_342_GT_02.tif  \n",
            "  inflating: ./labels/F04_342_GT_03.tif  \n",
            "  inflating: ./labels/F04_343_GT_01.tif  \n",
            "  inflating: ./labels/F04_484_GT_01.tif  \n",
            "  inflating: ./labels/F04_489_GT_01.tif  \n",
            "  inflating: ./labels/F04_585_GT_01.tif  \n",
            "  inflating: ./labels/F04_69_GT_01.tif  \n",
            "  inflating: ./labels/F04_706_GT_01.tif  \n",
            "  inflating: ./labels/F04_812_GT_01.tif  \n",
            "  inflating: ./labels/F04_815_GT_01.tif  \n",
            "  inflating: ./labels/F04_821_GT_01.tif  \n",
            "  inflating: ./labels/F04_862_GT_01.tif  \n",
            "  inflating: ./labels/F04_862_GT_02.tif  \n"
          ],
          "name": "stdout"
        }
      ]
    },
    {
      "cell_type": "code",
      "metadata": {
        "id": "5v_WpRu1FLsz"
      },
      "source": [
        "import numpy as np\n",
        "from os import listdir\n",
        "from os.path import join\n",
        "import cv2"
      ],
      "execution_count": 3,
      "outputs": []
    },
    {
      "cell_type": "code",
      "metadata": {
        "id": "Abq3GlsUQ_oh"
      },
      "source": [
        "import torch\n",
        "import torchvision\n",
        "from torch.utils.data import Dataset, DataLoader\n",
        "from torchvision.models.detection.faster_rcnn import FastRCNNPredictor\n",
        "from torchvision.models.detection.mask_rcnn import MaskRCNNPredictor"
      ],
      "execution_count": 4,
      "outputs": []
    },
    {
      "cell_type": "code",
      "metadata": {
        "id": "0dmLplu1IA8J"
      },
      "source": [
        "num_classes = 2\n",
        "model = torchvision.models.detection.maskrcnn_resnet50_fpn(pretrained=True)\n",
        "in_features = model.roi_heads.box_predictor.cls_score.in_features\n",
        "model.roi_heads.box_predictor = FastRCNNPredictor(in_features, num_classes)\n",
        "\n",
        "in_features_mask = model.roi_heads.mask_predictor.conv5_mask.in_channels\n",
        "model.roi_heads.mask_predictor = MaskRCNNPredictor(in_features_mask, 256, num_classes)"
      ],
      "execution_count": null,
      "outputs": []
    },
    {
      "cell_type": "code",
      "metadata": {
        "id": "LGRFCnAgJMRb"
      },
      "source": [
        "device = torch.device('cuda') if torch.cuda.is_available() else torch.device('cpu')\n",
        "model = model.to(device)"
      ],
      "execution_count": 5,
      "outputs": []
    },
    {
      "cell_type": "code",
      "metadata": {
        "id": "MZNF2BzJOoBB"
      },
      "source": [
        "im_root, lb_root = \"./images\", \"./labels\"\n",
        "im_files = [join(im_root, im) for im in sorted(listdir(im_root)) if 'w1' in im]\n",
        "lb_files = [join(lb_root, lb) for lb in sorted(listdir(lb_root)) if '_01' in lb]"
      ],
      "execution_count": 5,
      "outputs": []
    },
    {
      "cell_type": "code",
      "metadata": {
        "id": "LTJ2sZ9qOvn0"
      },
      "source": [
        "dim = (696, 520)\n",
        "images = np.array([cv2.resize(cv2.imread(img), dim, interpolation = cv2.INTER_AREA) for img in im_files])\n",
        "labels = np.array([cv2.imread(lbl, 0) for lbl in lb_files]) / 255"
      ],
      "execution_count": 6,
      "outputs": []
    },
    {
      "cell_type": "code",
      "metadata": {
        "id": "f7qGeqVdJWOJ"
      },
      "source": [
        "class CellImages(Dataset):\n",
        "    def __init__(self, images, labels):\n",
        "        self.images = images\n",
        "        self.labels = labels\n",
        "        self.transform = transforms.Compose([\n",
        "            transforms.ToTensor(),\n",
        "            transforms.CenterCrop(256),\n",
        "        ])\n",
        "    \n",
        "    def __len__(self):\n",
        "        return len(self.images)\n",
        "\n",
        "    def __getitem__(self, ind):\n",
        "        img = self.transform(self.images[ind])\n",
        "        lbl = self.transform(self.labels[ind])\n",
        "\n",
        "        return img, lbl"
      ],
      "execution_count": 51,
      "outputs": []
    },
    {
      "cell_type": "code",
      "metadata": {
        "id": "F-hhXewmuquz",
        "outputId": "40497c80-afa0-4087-9009-ea3a7acf0c2c",
        "colab": {
          "base_uri": "https://localhost:8080/",
          "height": 35
        }
      },
      "source": [
        "lb_files[2]"
      ],
      "execution_count": 91,
      "outputs": [
        {
          "output_type": "execute_result",
          "data": {
            "application/vnd.google.colaboratory.intrinsic+json": {
              "type": "string"
            },
            "text/plain": [
              "'./labels/F01_1377_GT_01.tif'"
            ]
          },
          "metadata": {
            "tags": []
          },
          "execution_count": 91
        }
      ]
    },
    {
      "cell_type": "code",
      "metadata": {
        "id": "X2u6UaXORJOm",
        "outputId": "99573975-109d-4271-dfc3-c9042aa2f134",
        "colab": {
          "base_uri": "https://localhost:8080/",
          "height": 405
        }
      },
      "source": [
        "array = labels[2]\n",
        "x, y = np.where(array > 0.5)\n",
        "\n",
        "cells = list(zip(x, y))\n",
        "instance = np.zeros_like(array)\n",
        "current_inst = 1\n",
        "\n",
        "def recurt(x, y, current_inst):\n",
        "    instance[x, y] = current_inst\n",
        "    array[x, y] = 0\n",
        "    for (xc, yc) in frien:\n",
        "        instance[xc, yc] = instance[x, y]\n",
        "        recurt(xc, yc, current_inst)\n",
        "    current_inst += 1\n",
        "    return current_inst\n",
        "\n",
        "for idx, coord in enumerate(cells):\n",
        "    col, row = coord\n",
        "    if idx == 3:\n",
        "        # Indices of neighbouring pixels \n",
        "        x1 = (col - 1) if col > 0 else col\n",
        "        x2 = (col + 1) if col <= len(cells) else col\n",
        "        y1 = (row - 1) if row > 0 else row\n",
        "        y2 = (row + 1) if row <= len(cells) else row\n",
        "\n",
        "        neigh = [(c, r) for c in range(x1, x2+1) for r in range(y1, y2+1)]\n",
        "        frien = [t for t in neigh if array[t] > 0.5 and t != (col, row)]\n",
        "\n",
        "        current_inst = recurt(col, row, current_inst)\n",
        "    \n",
        "print(np.unique(instance))\n",
        "print(current_inst)"
      ],
      "execution_count": 7,
      "outputs": [
        {
          "output_type": "error",
          "ename": "RecursionError",
          "evalue": "ignored",
          "traceback": [
            "\u001b[0;31m---------------------------------------------------------------------------\u001b[0m",
            "\u001b[0;31mRecursionError\u001b[0m                            Traceback (most recent call last)",
            "\u001b[0;32m<ipython-input-7-ffd07e59ec23>\u001b[0m in \u001b[0;36m<module>\u001b[0;34m()\u001b[0m\n\u001b[1;32m     27\u001b[0m         \u001b[0mfrien\u001b[0m \u001b[0;34m=\u001b[0m \u001b[0;34m[\u001b[0m\u001b[0mt\u001b[0m \u001b[0;32mfor\u001b[0m \u001b[0mt\u001b[0m \u001b[0;32min\u001b[0m \u001b[0mneigh\u001b[0m \u001b[0;32mif\u001b[0m \u001b[0marray\u001b[0m\u001b[0;34m[\u001b[0m\u001b[0mt\u001b[0m\u001b[0;34m]\u001b[0m \u001b[0;34m>\u001b[0m \u001b[0;36m0.5\u001b[0m \u001b[0;32mand\u001b[0m \u001b[0mt\u001b[0m \u001b[0;34m!=\u001b[0m \u001b[0;34m(\u001b[0m\u001b[0mcol\u001b[0m\u001b[0;34m,\u001b[0m \u001b[0mrow\u001b[0m\u001b[0;34m)\u001b[0m\u001b[0;34m]\u001b[0m\u001b[0;34m\u001b[0m\u001b[0;34m\u001b[0m\u001b[0m\n\u001b[1;32m     28\u001b[0m \u001b[0;34m\u001b[0m\u001b[0m\n\u001b[0;32m---> 29\u001b[0;31m         \u001b[0mcurrent_inst\u001b[0m \u001b[0;34m=\u001b[0m \u001b[0mrecurt\u001b[0m\u001b[0;34m(\u001b[0m\u001b[0mcol\u001b[0m\u001b[0;34m,\u001b[0m \u001b[0mrow\u001b[0m\u001b[0;34m,\u001b[0m \u001b[0mcurrent_inst\u001b[0m\u001b[0;34m)\u001b[0m\u001b[0;34m\u001b[0m\u001b[0;34m\u001b[0m\u001b[0m\n\u001b[0m\u001b[1;32m     30\u001b[0m \u001b[0;34m\u001b[0m\u001b[0m\n\u001b[1;32m     31\u001b[0m \u001b[0mprint\u001b[0m\u001b[0;34m(\u001b[0m\u001b[0mnp\u001b[0m\u001b[0;34m.\u001b[0m\u001b[0munique\u001b[0m\u001b[0;34m(\u001b[0m\u001b[0minstance\u001b[0m\u001b[0;34m)\u001b[0m\u001b[0;34m)\u001b[0m\u001b[0;34m\u001b[0m\u001b[0;34m\u001b[0m\u001b[0m\n",
            "\u001b[0;32m<ipython-input-7-ffd07e59ec23>\u001b[0m in \u001b[0;36mrecurt\u001b[0;34m(x, y, current_inst)\u001b[0m\n\u001b[1;32m     11\u001b[0m     \u001b[0;32mfor\u001b[0m \u001b[0;34m(\u001b[0m\u001b[0mxc\u001b[0m\u001b[0;34m,\u001b[0m \u001b[0myc\u001b[0m\u001b[0;34m)\u001b[0m \u001b[0;32min\u001b[0m \u001b[0mfrien\u001b[0m\u001b[0;34m:\u001b[0m\u001b[0;34m\u001b[0m\u001b[0;34m\u001b[0m\u001b[0m\n\u001b[1;32m     12\u001b[0m         \u001b[0minstance\u001b[0m\u001b[0;34m[\u001b[0m\u001b[0mxc\u001b[0m\u001b[0;34m,\u001b[0m \u001b[0myc\u001b[0m\u001b[0;34m]\u001b[0m \u001b[0;34m=\u001b[0m \u001b[0minstance\u001b[0m\u001b[0;34m[\u001b[0m\u001b[0mx\u001b[0m\u001b[0;34m,\u001b[0m \u001b[0my\u001b[0m\u001b[0;34m]\u001b[0m\u001b[0;34m\u001b[0m\u001b[0;34m\u001b[0m\u001b[0m\n\u001b[0;32m---> 13\u001b[0;31m         \u001b[0mrecurt\u001b[0m\u001b[0;34m(\u001b[0m\u001b[0mxc\u001b[0m\u001b[0;34m,\u001b[0m \u001b[0myc\u001b[0m\u001b[0;34m,\u001b[0m \u001b[0mcurrent_inst\u001b[0m\u001b[0;34m)\u001b[0m\u001b[0;34m\u001b[0m\u001b[0;34m\u001b[0m\u001b[0m\n\u001b[0m\u001b[1;32m     14\u001b[0m     \u001b[0mcurrent_inst\u001b[0m \u001b[0;34m+=\u001b[0m \u001b[0;36m1\u001b[0m\u001b[0;34m\u001b[0m\u001b[0;34m\u001b[0m\u001b[0m\n\u001b[1;32m     15\u001b[0m     \u001b[0;32mreturn\u001b[0m \u001b[0mcurrent_inst\u001b[0m\u001b[0;34m\u001b[0m\u001b[0;34m\u001b[0m\u001b[0m\n",
            "... last 1 frames repeated, from the frame below ...\n",
            "\u001b[0;32m<ipython-input-7-ffd07e59ec23>\u001b[0m in \u001b[0;36mrecurt\u001b[0;34m(x, y, current_inst)\u001b[0m\n\u001b[1;32m     11\u001b[0m     \u001b[0;32mfor\u001b[0m \u001b[0;34m(\u001b[0m\u001b[0mxc\u001b[0m\u001b[0;34m,\u001b[0m \u001b[0myc\u001b[0m\u001b[0;34m)\u001b[0m \u001b[0;32min\u001b[0m \u001b[0mfrien\u001b[0m\u001b[0;34m:\u001b[0m\u001b[0;34m\u001b[0m\u001b[0;34m\u001b[0m\u001b[0m\n\u001b[1;32m     12\u001b[0m         \u001b[0minstance\u001b[0m\u001b[0;34m[\u001b[0m\u001b[0mxc\u001b[0m\u001b[0;34m,\u001b[0m \u001b[0myc\u001b[0m\u001b[0;34m]\u001b[0m \u001b[0;34m=\u001b[0m \u001b[0minstance\u001b[0m\u001b[0;34m[\u001b[0m\u001b[0mx\u001b[0m\u001b[0;34m,\u001b[0m \u001b[0my\u001b[0m\u001b[0;34m]\u001b[0m\u001b[0;34m\u001b[0m\u001b[0;34m\u001b[0m\u001b[0m\n\u001b[0;32m---> 13\u001b[0;31m         \u001b[0mrecurt\u001b[0m\u001b[0;34m(\u001b[0m\u001b[0mxc\u001b[0m\u001b[0;34m,\u001b[0m \u001b[0myc\u001b[0m\u001b[0;34m,\u001b[0m \u001b[0mcurrent_inst\u001b[0m\u001b[0;34m)\u001b[0m\u001b[0;34m\u001b[0m\u001b[0;34m\u001b[0m\u001b[0m\n\u001b[0m\u001b[1;32m     14\u001b[0m     \u001b[0mcurrent_inst\u001b[0m \u001b[0;34m+=\u001b[0m \u001b[0;36m1\u001b[0m\u001b[0;34m\u001b[0m\u001b[0;34m\u001b[0m\u001b[0m\n\u001b[1;32m     15\u001b[0m     \u001b[0;32mreturn\u001b[0m \u001b[0mcurrent_inst\u001b[0m\u001b[0;34m\u001b[0m\u001b[0;34m\u001b[0m\u001b[0m\n",
            "\u001b[0;31mRecursionError\u001b[0m: maximum recursion depth exceeded"
          ]
        }
      ]
    },
    {
      "cell_type": "code",
      "metadata": {
        "id": "RoTf1w5ufE1W",
        "outputId": "84e66aaa-3954-4aad-8787-26bd35637254",
        "colab": {
          "base_uri": "https://localhost:8080/",
          "height": 537
        }
      },
      "source": [
        "from PIL import Image\n",
        "Image.fromarray(np.uint8(instance))"
      ],
      "execution_count": 186,
      "outputs": [
        {
          "output_type": "execute_result",
          "data": {
            "image/png": "[encoded data removed]",
            "text/plain": [
              "<PIL.Image.Image image mode=L size=696x520 at 0x7F6A2ABF4850>"
            ]
          },
          "metadata": {
            "tags": []
          },
          "execution_count": 186
        }
      ]
    },
    {
      "cell_type": "code",
      "metadata": {
        "id": "RgJnaMjBf9ca"
      },
      "source": [
        "with np.printoptions(threshold=np.inf):\n",
        "    print(cells[0])"
      ],
      "execution_count": null,
      "outputs": []
    },
    {
      "cell_type": "code",
      "metadata": {
        "id": "xSMxuqjtlp--",
        "outputId": "67b1ab6d-cde7-4e67-da30-5d4a159271ba",
        "colab": {
          "base_uri": "https://localhost:8080/"
        }
      },
      "source": [
        "\n"
      ],
      "execution_count": 115,
      "outputs": [
        {
          "output_type": "stream",
          "text": [
            "(array([  0,   0,   0, ..., 519, 519, 519]), array([ 18,  19,  20, ..., 615, 616, 617]))\n",
            "((array([  0,   0,   0, ..., 519, 519, 519]),), (array([ 18,  19,  20, ..., 615, 616, 617]),))\n"
          ],
          "name": "stdout"
        }
      ]
    }
  ]
}