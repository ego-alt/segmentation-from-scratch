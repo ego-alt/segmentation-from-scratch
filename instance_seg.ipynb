{
  "nbformat": 4,
  "nbformat_minor": 0,
  "metadata": {
    "kernelspec": {
      "display_name": "Python 3",
      "language": "python",
      "name": "python3"
    },
    "language_info": {
      "codemirror_mode": {
        "name": "ipython",
        "version": 2
      },
      "file_extension": ".py",
      "mimetype": "text/x-python",
      "name": "python",
      "nbconvert_exporter": "python",
      "pygments_lexer": "ipython2",
      "version": "2.7.6"
    },
    "colab": {
      "name": "Copy of instance_seg.ipynb",
      "provenance": [],
      "collapsed_sections": [],
      "include_colab_link": true
    }
  },
  "cells": [
    {
      "cell_type": "markdown",
      "metadata": {
        "id": "view-in-github",
        "colab_type": "text"
      },
      "source": [
        "<a href=\"https://colab.research.google.com/github/ego-alt/segmentation-from-scratch/blob/master/instance_seg.ipynb\" target=\"_parent\"><img src=\"https://colab.research.google.com/assets/colab-badge.svg\" alt=\"Open In Colab\"/></a>"
      ]
    },
    {
      "cell_type": "code",
      "metadata": {
        "id": "XeO87WM_6jO0",
        "outputId": "cd70d45e-2b53-4670-b59d-f173356d90d4",
        "colab": {
          "base_uri": "https://localhost:8080/"
        }
      },
      "source": [
        "from google.colab import drive\n",
        "drive.mount('/content/drive')"
      ],
      "execution_count": 1,
      "outputs": [
        {
          "output_type": "stream",
          "text": [
            "Mounted at /content/drive\n"
          ],
          "name": "stdout"
        }
      ]
    },
    {
      "cell_type": "code",
      "metadata": {
        "id": "jWI2DpcG7tWu"
      },
      "source": [
        "!unzip -o -j -q -d ./full_images /content/drive/MyDrive/MP6843_img_full.zip\n",
        "!unzip -o -j -q -d ./labels /content/drive/MyDrive/MP6843_ins.zip"
      ],
      "execution_count": 2,
      "outputs": []
    },
    {
      "cell_type": "code",
      "metadata": {
        "id": "5v_WpRu1FLsz"
      },
      "source": [
        "import numpy as np\n",
        "from os import listdir\n",
        "from os.path import join\n",
        "import cv2\n",
        "import re"
      ],
      "execution_count": 3,
      "outputs": []
    },
    {
      "cell_type": "code",
      "metadata": {
        "id": "edZyXvHOORVN"
      },
      "source": [
        "class ArrayMaker:\n",
        "    def __init__(self, root_path):\n",
        "        self.root = root_path\n",
        "        self.files = {}\n",
        "        self.arrdict = {}\n",
        "\n",
        "        self.org_files()\n",
        "\n",
        "    def org_files(self):\n",
        "        regex = \"^F0[1-4]_[0-9]+\"\n",
        "        for file in sorted(listdir(self.root)):\n",
        "            if not file.startswith('.'):\n",
        "                filename = re.findall(regex, file)[0]\n",
        "                if filename not in self.files:\n",
        "                    self.files[filename] = list()\n",
        "                self.files[filename].append(file)\n",
        "\n",
        "    def main(self, dim=None, length=None):\n",
        "        for name in self.files:\n",
        "            for i in self.files[name]:\n",
        "                im = cv2.imread(join(self.root, i))\n",
        "                if dim: im = cv2.resize(im, dim, interpolation=cv2.INTER_AREA)\n",
        "                im = np.array(im)\n",
        "                if name not in self.arrdict:\n",
        "                    self.arrdict[name] = list()\n",
        "\n",
        "                if length:\n",
        "                    x, y = dim\n",
        "                    x0 = (x - length) // 2\n",
        "                    y0 = (y - length) // 2\n",
        "                    im = im[x0:x0 + length, y0:y0 + length]\n",
        "                \n",
        "                self.arrdict[name].append(im)\n",
        "\n",
        "    def common_elements(self, other):\n",
        "        stored = {k:self.arrdict[k] for k in self.arrdict if k in other}\n",
        "        self.arrdict = stored"
      ],
      "execution_count": 43,
      "outputs": []
    },
    {
      "cell_type": "code",
      "metadata": {
        "id": "JfDYlIHe3Ixd"
      },
      "source": [
        "lb_root = './labels'\n",
        "labels = ArrayMaker(lb_root)\n",
        "labels.main()\n",
        "\n",
        "im_root = './full_images'\n",
        "dim = (696, 520)\n",
        "length = 256\n",
        "images = ArrayMaker(im_root)\n",
        "images.main(dim=dim, length=length)\n",
        "images.common_elements(labels.arrdict)"
      ],
      "execution_count": 45,
      "outputs": []
    },
    {
      "cell_type": "code",
      "metadata": {
        "id": "Abq3GlsUQ_oh"
      },
      "source": [
        "import torch\n",
        "import torchvision\n",
        "from torch.utils.data import Dataset, DataLoader\n",
        "from torchvision.models.detection.faster_rcnn import FastRCNNPredictor\n",
        "from torchvision.models.detection.mask_rcnn import MaskRCNNPredictor"
      ],
      "execution_count": 5,
      "outputs": []
    },
    {
      "cell_type": "code",
      "metadata": {
        "id": "LTJ2sZ9qOvn0"
      },
      "source": [
        "dim = (696, 520)\n",
        "images = np.array([cv2.resize(cv2.imread(img), dim, interpolation = cv2.INTER_AREA) for img in im_files])\n",
        "labels = np.array([cv2.imread(lbl, 0) for lbl in lb_files]) / 255"
      ],
      "execution_count": null,
      "outputs": []
    },
    {
      "cell_type": "code",
      "metadata": {
        "id": "0dmLplu1IA8J"
      },
      "source": [
        "num_classes = 2\n",
        "model = torchvision.models.detection.maskrcnn_resnet50_fpn(pretrained=True)\n",
        "in_features = model.roi_heads.box_predictor.cls_score.in_features\n",
        "model.roi_heads.box_predictor = FastRCNNPredictor(in_features, num_classes)\n",
        "\n",
        "in_features_mask = model.roi_heads.mask_predictor.conv5_mask.in_channels\n",
        "model.roi_heads.mask_predictor = MaskRCNNPredictor(in_features_mask, 256, num_classes)"
      ],
      "execution_count": null,
      "outputs": []
    },
    {
      "cell_type": "code",
      "metadata": {
        "id": "LGRFCnAgJMRb"
      },
      "source": [
        "device = torch.device('cuda') if torch.cuda.is_available() else torch.device('cpu')\n",
        "model = model.to(device)"
      ],
      "execution_count": null,
      "outputs": []
    },
    {
      "cell_type": "code",
      "metadata": {
        "id": "f7qGeqVdJWOJ"
      },
      "source": [
        "class CellImages(Dataset):\n",
        "    def __init__(self, images, labels):\n",
        "        self.images = images\n",
        "        self.labels = labels\n",
        "        self.transform = transforms.Compose([\n",
        "            transforms.ToTensor(),\n",
        "            transforms.CenterCrop(256),\n",
        "        ])\n",
        "    \n",
        "    def __len__(self):\n",
        "        return len(self.images)\n",
        "\n",
        "    def __getitem__(self, ind):\n",
        "        img = self.transform(self.images[ind])\n",
        "        lbl = self.transform(self.labels[ind])\n",
        "\n",
        "        return img, lbl"
      ],
      "execution_count": null,
      "outputs": []
    }
  ]
}