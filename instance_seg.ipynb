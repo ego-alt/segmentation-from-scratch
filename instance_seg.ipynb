{
  "nbformat": 4,
  "nbformat_minor": 0,
  "metadata": {
    "kernelspec": {
      "display_name": "Python 3",
      "language": "python",
      "name": "python3"
    },
    "language_info": {
      "codemirror_mode": {
        "name": "ipython",
        "version": 2
      },
      "file_extension": ".py",
      "mimetype": "text/x-python",
      "name": "python",
      "nbconvert_exporter": "python",
      "pygments_lexer": "ipython2",
      "version": "2.7.6"
    },
    "colab": {
      "name": "Copy of instance_seg.ipynb",
      "provenance": [],
      "collapsed_sections": [],
      "include_colab_link": true
    }
  },
  "cells": [
    {
      "cell_type": "markdown",
      "metadata": {
        "id": "view-in-github",
        "colab_type": "text"
      },
      "source": [
        "<a href=\"https://colab.research.google.com/github/ego-alt/segmentation-from-scratch/blob/master/instance_seg.ipynb\" target=\"_parent\"><img src=\"https://colab.research.google.com/assets/colab-badge.svg\" alt=\"Open In Colab\"/></a>"
      ]
    },
    {
      "cell_type": "code",
      "metadata": {
        "collapsed": true,
        "id": "_60jx2kxE92Q"
      },
      "source": [
        "!wget https://cildata.crbs.ucsd.edu/ccdb//telescience/home/CCDB_DATA_USER.portal/P2043/Experiment_6835/Subject_6837/Tissue_6840/Microscopy_6843/MP6843_img_full.zip\n",
        "!wget https://cildata.crbs.ucsd.edu/ccdb//telescience/home/CCDB_DATA_USER.portal/P2043/Experiment_6835/Subject_6837/Tissue_6840/Microscopy_6843/MP6843_seg.zip\n",
        "!unzip -o -d ./images MP6843_img_full.zip\n",
        "!unzip -o -d ./labels MP6843_seg.zip\n",
        "!rm *.zip"
      ],
      "execution_count": null,
      "outputs": []
    },
    {
      "cell_type": "code",
      "metadata": {
        "id": "5v_WpRu1FLsz"
      },
      "source": [
        "import numpy as np\n",
        "from os import listdir\n",
        "from os.path import join\n",
        "import cv2"
      ],
      "execution_count": 3,
      "outputs": []
    },
    {
      "cell_type": "code",
      "metadata": {
        "id": "Abq3GlsUQ_oh"
      },
      "source": [
        "import torch\n",
        "import torchvision\n",
        "from torch.utils.data import Dataset, DataLoader\n",
        "from torchvision.models.detection.faster_rcnn import FastRCNNPredictor\n",
        "from torchvision.models.detection.mask_rcnn import MaskRCNNPredictor"
      ],
      "execution_count": 4,
      "outputs": []
    },
    {
      "cell_type": "code",
      "metadata": {
        "id": "0dmLplu1IA8J"
      },
      "source": [
        "num_classes = 2\n",
        "model = torchvision.models.detection.maskrcnn_resnet50_fpn(pretrained=True)\n",
        "in_features = model.roi_heads.box_predictor.cls_score.in_features\n",
        "model.roi_heads.box_predictor = FastRCNNPredictor(in_features, num_classes)\n",
        "\n",
        "in_features_mask = model.roi_heads.mask_predictor.conv5_mask.in_channels\n",
        "model.roi_heads.mask_predictor = MaskRCNNPredictor(in_features_mask, 256, num_classes)"
      ],
      "execution_count": null,
      "outputs": []
    },
    {
      "cell_type": "code",
      "metadata": {
        "id": "LGRFCnAgJMRb"
      },
      "source": [
        "device = torch.device('cuda') if torch.cuda.is_available() else torch.device('cpu')\n",
        "model = model.to(device)"
      ],
      "execution_count": null,
      "outputs": []
    },
    {
      "cell_type": "code",
      "metadata": {
        "id": "MZNF2BzJOoBB"
      },
      "source": [
        "im_root, lb_root = \"./images\", \"./labels\"\n",
        "im_files = [join(im_root, im) for im in sorted(listdir(im_root)) if 'w1' in im]\n",
        "lb_files = [join(lb_root, lb) for lb in sorted(listdir(lb_root)) if '_01' in lb]"
      ],
      "execution_count": 5,
      "outputs": []
    },
    {
      "cell_type": "code",
      "metadata": {
        "id": "LTJ2sZ9qOvn0"
      },
      "source": [
        "dim = (696, 520)\n",
        "images = np.array([cv2.resize(cv2.imread(img), dim, interpolation = cv2.INTER_AREA) for img in im_files])\n",
        "labels = np.array([cv2.imread(lbl, 0) for lbl in lb_files]) / 255"
      ],
      "execution_count": 6,
      "outputs": []
    },
    {
      "cell_type": "code",
      "metadata": {
        "id": "f7qGeqVdJWOJ"
      },
      "source": [
        "class CellImages(Dataset):\n",
        "    def __init__(self, images, labels):\n",
        "        self.images = images\n",
        "        self.labels = labels\n",
        "        self.transform = transforms.Compose([\n",
        "            transforms.ToTensor(),\n",
        "            transforms.CenterCrop(256),\n",
        "        ])\n",
        "    \n",
        "    def __len__(self):\n",
        "        return len(self.images)\n",
        "\n",
        "    def __getitem__(self, ind):\n",
        "        img = self.transform(self.images[ind])\n",
        "        lbl = self.transform(self.labels[ind])\n",
        "\n",
        "        return img, lbl"
      ],
      "execution_count": null,
      "outputs": []
    },
    {
      "cell_type": "code",
      "metadata": {
        "id": "F-hhXewmuquz",
        "colab": {
          "base_uri": "https://localhost:8080/",
          "height": 35
        },
        "outputId": "40497c80-afa0-4087-9009-ea3a7acf0c2c"
      },
      "source": [
        "lb_files[2]"
      ],
      "execution_count": null,
      "outputs": [
        {
          "output_type": "execute_result",
          "data": {
            "application/vnd.google.colaboratory.intrinsic+json": {
              "type": "string"
            },
            "text/plain": [
              "'./labels/F01_1377_GT_01.tif'"
            ]
          },
          "metadata": {
            "tags": []
          },
          "execution_count": 91
        }
      ]
    },
    {
      "cell_type": "code",
      "metadata": {
        "id": "VZ5dFbM9NZrd",
        "colab": {
          "base_uri": "https://localhost:8080/"
        },
        "outputId": "b7480a13-c220-4d94-99c6-80320165fe25"
      },
      "source": [
        "array = labels[2][1:256, 1:256]\n",
        "cells = np.where(array > 0.5)\n",
        "full_x, full_y = cells\n",
        "cells = set(zip(full_x, full_y))\n",
        "\n",
        "instance = np.zeros_like(array)\n",
        "current_inst = 0\n",
        "\n",
        "\n",
        "def find_nb(col, row):\n",
        "    x1 = (col - 1) if col > 0 else col\n",
        "    x2 = (col + 1) if col <= len(cells) else col\n",
        "    y1 = (row - 1) if row > 0 else row\n",
        "    y2 = (row + 1) if row <= len(cells) else row\n",
        "\n",
        "    neigh = [(c, r) for c in range(x1, x2+1) for r in range(y1, y2+1)]\n",
        "\n",
        "    return neigh\n",
        "\n",
        "for (xc, yc) in cells:\n",
        "    neigh = find_nb(xc, yc) # Find surrounding neighbours\n",
        "    cells = cells.difference(neigh) # Remove neighbours from consideration\n",
        "\n",
        "    friends = [(x-1, y-1) for x, y in neigh if array[x-1, y-1] > 0.5]\n",
        "    nvalue = [instance[x-1, y-1] for x, y in friends]\n",
        "    for coord in friends:\n",
        "        instance[coord] = max(nvalue) if max(nvalue) > 0 else current_inst\n",
        "    current_inst += 1\n",
        "\n",
        "\n",
        "print(np.unique(instance))\n",
        "print(current_inst)"
      ],
      "execution_count": 43,
      "outputs": [
        {
          "output_type": "stream",
          "text": [
            "[0.0000e+00 6.0000e+00 1.3000e+01 ... 2.3142e+04 2.3154e+04 2.3156e+04]\n",
            "23188\n"
          ],
          "name": "stdout"
        }
      ]
    },
    {
      "cell_type": "code",
      "metadata": {
        "id": "RoTf1w5ufE1W",
        "colab": {
          "base_uri": "https://localhost:8080/",
          "height": 272
        },
        "outputId": "cbddc0c8-75c6-4260-fc46-77150905fc36"
      },
      "source": [
        "from PIL import Image\n",
        "Image.fromarray(np.uint8(instance))"
      ],
      "execution_count": 44,
      "outputs": [
        {
          "output_type": "execute_result",
          "data": {
            "image/png": "[encoded data removed]",
            "text/plain": [
              "<PIL.Image.Image image mode=L size=255x255 at 0x7FD569972BD0>"
            ]
          },
          "metadata": {
            "tags": []
          },
          "execution_count": 44
        }
      ]
    }
  ]
}