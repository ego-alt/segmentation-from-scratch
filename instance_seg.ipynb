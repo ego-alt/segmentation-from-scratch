{
  "nbformat": 4,
  "nbformat_minor": 0,
  "metadata": {
    "kernelspec": {
      "display_name": "Python 3",
      "language": "python",
      "name": "python3"
    },
    "language_info": {
      "codemirror_mode": {
        "name": "ipython",
        "version": 2
      },
      "file_extension": ".py",
      "mimetype": "text/x-python",
      "name": "python",
      "nbconvert_exporter": "python",
      "pygments_lexer": "ipython2",
      "version": "2.7.6"
    },
    "colab": {
      "name": "Copy of instance_seg.ipynb",
      "provenance": [],
      "collapsed_sections": [],
      "include_colab_link": true
    },
    "accelerator": "GPU"
  },
  "cells": [
    {
      "cell_type": "markdown",
      "metadata": {
        "id": "view-in-github",
        "colab_type": "text"
      },
      "source": [
        "<a href=\"https://colab.research.google.com/github/ego-alt/segmentation-from-scratch/blob/master/instance_seg.ipynb\" target=\"_parent\"><img src=\"https://colab.research.google.com/assets/colab-badge.svg\" alt=\"Open In Colab\"/></a>"
      ]
    },
    {
      "cell_type": "code",
      "metadata": {
        "colab": {
          "base_uri": "https://localhost:8080/"
        },
        "id": "XeO87WM_6jO0",
        "outputId": "86d12618-d5bb-4d4e-e3ea-e3601b5a7ef1"
      },
      "source": [
        "from google.colab import drive\n",
        "drive.mount('/content/drive')"
      ],
      "execution_count": 2,
      "outputs": [
        {
          "output_type": "stream",
          "text": [
            "Mounted at /content/drive\n"
          ],
          "name": "stdout"
        }
      ]
    },
    {
      "cell_type": "code",
      "metadata": {
        "id": "jWI2DpcG7tWu"
      },
      "source": [
        "!unzip -o -j -q -d ./full_images /content/drive/MyDrive/MP6843_img_full.zip\n",
        "!unzip -o -j -q -d ./labels /content/drive/MyDrive/MP6843_inst.zip"
      ],
      "execution_count": 3,
      "outputs": []
    },
    {
      "cell_type": "code",
      "metadata": {
        "id": "5v_WpRu1FLsz"
      },
      "source": [
        "import numpy as np\n",
        "from os import listdir\n",
        "from os.path import join\n",
        "import cv2\n",
        "import re"
      ],
      "execution_count": 4,
      "outputs": []
    },
    {
      "cell_type": "code",
      "metadata": {
        "id": "edZyXvHOORVN"
      },
      "source": [
        "class ArrayMaker:\n",
        "    def __init__(self, root_path):\n",
        "        self.root = root_path\n",
        "        self.files = {}\n",
        "        self.arrdict = {}\n",
        "\n",
        "        self.org_files()\n",
        "\n",
        "    def main(self, dim=None, crop=None, greyscale=False):\n",
        "        for name in self.files:\n",
        "            for i in self.files[name]:\n",
        "                if greyscale: im = cv2.imread(join(self.root, i), 0)\n",
        "                else: im = cv2.imread(join(self.root, i))\n",
        "\n",
        "                if dim: im = cv2.resize(im, dim, interpolation=cv2.INTER_AREA)\n",
        "                im = np.array(im)\n",
        "                if crop:\n",
        "                    y, x, *_ = im.shape\n",
        "                    x0 = (x - crop) // 2\n",
        "                    y0 = (y - crop) // 2\n",
        "                    im = im[x0:x0 + crop, y0:y0 + crop]\n",
        "                self.listdict(self.arrdict, name, im)\n",
        "\n",
        "    def org_files(self):\n",
        "        regex = \"^F0[1-4]_[0-9]+\"\n",
        "        for file in sorted(listdir(self.root)):\n",
        "            if not file.startswith('.'):\n",
        "                filename = re.findall(regex, file)[0]\n",
        "                self.listdict(self.files, filename, file)\n",
        "\n",
        "    def common_elements(self, other):\n",
        "        stored = {k:self.arrdict[k] for k in self.arrdict if k in other}\n",
        "        self.arrdict = stored\n",
        "\n",
        "    def filtering(self, keyword):\n",
        "        filtered = []\n",
        "        for name in self.files:\n",
        "            filename = self.files[name]\n",
        "            f = [filename.index(i) for i in filename if keyword in i]\n",
        "            filtered.extend(self.arrdict[name][i] for i in f)\n",
        "        return filtered\n",
        "\n",
        "    def stacking(self):\n",
        "        stacked = [np.stack(self.arrdict[name],axis=-1) for name in self.arrdict]\n",
        "        return stacked\n",
        "\n",
        "    def listdict(self, dictionary, key, value):\n",
        "        if key not in dictionary:\n",
        "            dictionary[key] = list()\n",
        "        dictionary[key].append(value)"
      ],
      "execution_count": 116,
      "outputs": []
    },
    {
      "cell_type": "code",
      "metadata": {
        "id": "JfDYlIHe3Ixd"
      },
      "source": [
        "lb_root = './labels'\n",
        "im_root = './full_images'\n",
        "dim = (696, 520)\n",
        "\n",
        "labels = ArrayMaker(lb_root)\n",
        "images = ArrayMaker(im_root)\n",
        "\n",
        "labels.main(crop=256, greyscale=True)\n",
        "images.main(dim=dim, crop=256)\n",
        "images.common_elements(labels.arrdict)\n",
        "\n",
        "w1 = images.filtering('w1')\n",
        "w2 = images.filtering('w2')\n",
        "labels3d = labels.stacking()\n",
        "alternating = [w1[i] if i % 2 == 0 else w2[i] for i in range(len(w1))]"
      ],
      "execution_count": 117,
      "outputs": []
    },
    {
      "cell_type": "code",
      "metadata": {
        "id": "CgNYy0xEX0Zt"
      },
      "source": [
        "import torch\n",
        "import torchvision\n",
        "from torch.utils.data import Dataset, DataLoader\n",
        "from torchvision import transforms\n",
        "from torchvision.models.detection.faster_rcnn import FastRCNNPredictor\n",
        "from torchvision.models.detection.mask_rcnn import MaskRCNNPredictor"
      ],
      "execution_count": 150,
      "outputs": []
    },
    {
      "cell_type": "code",
      "metadata": {
        "id": "Pwt4T9Sf11nK"
      },
      "source": [
        "!pip install pycocotools"
      ],
      "execution_count": null,
      "outputs": []
    },
    {
      "cell_type": "code",
      "metadata": {
        "id": "f7qGeqVdJWOJ"
      },
      "source": [
        "class CellImages(Dataset):\n",
        "    def __init__(self, images, labels):\n",
        "        self.images = images\n",
        "        self.labels = labels\n",
        "        self.transform = transforms.Compose([\n",
        "            transforms.ToTensor(),\n",
        "        ])\n",
        "    \n",
        "    def __len__(self):\n",
        "        return len(self.images)\n",
        "\n",
        "    def __getitem__(self, ind):\n",
        "        img = self.transform(self.images[ind])\n",
        "        lb = self.labels[ind]\n",
        "        _, _, stack_num = lbl.shape\n",
        "\n",
        "        masks = []\n",
        "        for i in range(stack_num):\n",
        "            layer = lbl[:, :, i]\n",
        "            obj_ids = np.unique(layer)[1:]\n",
        "            masks.extend(layer == obj_ids[:, None, None])\n",
        "        mask_num = len(masks)\n",
        "\n",
        "        boxes = []\n",
        "        for i in range(mask_num):\n",
        "            coord = np.where(masks[i])\n",
        "            x0, x1 = np.min(coord[1]), np.max(coord[1])\n",
        "            y0, y1 = np.min(coord[0]), np.max(coord[0])\n",
        "            boxes.append([x0, y0, x1, y1])\n",
        "        boxes = torch.as_tensor(boxes, dtype=torch.float32)\n",
        "\n",
        "        target = {}\n",
        "        x_len = boxes[:,3] - boxes[:,1]\n",
        "        y_len = boxes[:,2] - boxes[:,0]\n",
        "\n",
        "        target[\"masks\"] = masks\n",
        "        target[\"boxes\"] = boxes\n",
        "        target[\"labels\"] = torch.ones((mask_num,), dtype=torch.int64)\n",
        "        target[\"image_id\"] = torch.as_tensor([ind])\n",
        "        target[\"area\"] = x_len * y_len\n",
        "        target[\"iscrowd\"] = torch.zeros((mask_num,), dtype=torch.int64)\n",
        "\n",
        "        return img, target"
      ],
      "execution_count": 165,
      "outputs": []
    },
    {
      "cell_type": "code",
      "metadata": {
        "id": "JZG9O4WJ0GIM"
      },
      "source": [
        "train_loader = DataLoader(CellImages(alternating[0:40], labels3d[0:40]), \n",
        "                          batch_size=5, shuffle=True, \n",
        "                          collate_fn=lambda x:list(zip(*x)))\n",
        "\n",
        "test_loader = DataLoader(CellImages(alternating[40:45], labels3d[40:45]), \n",
        "                          batch_size=5, shuffle=True,\n",
        "                          collate_fn=lambda x:list(zip(*x)))"
      ],
      "execution_count": 237,
      "outputs": []
    }
  ]
}