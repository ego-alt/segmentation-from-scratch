{
 "cells": [
  {
   "cell_type": "code",
   "execution_count": null,
   "outputs": [],
   "source": [
    "!wget https://www2.eecs.berkeley.edu/Research/Projects/CS/vision/grouping/segbench/BSDS300-images.tgz\n",
    "!wget https://www2.eecs.berkeley.edu/Research/Projects/CS/vision/grouping/segbench/BSDS300-human.tgz\n",
    "!tar zxvf *-images.tgz\n",
    "!tar zxvf *-human.tgz"
   ],
   "metadata": {
    "collapsed": false,
    "pycharm": {
     "name": "#%%\n"
    }
   }
  },
  {
   "cell_type": "code",
   "execution_count": null,
   "outputs": [],
   "source": [
    "import re\n",
    "import os.path\n",
    "from PIL import Image\n",
    "import numpy as np"
   ],
   "metadata": {
    "collapsed": false,
    "pycharm": {
     "name": "#%%\n"
    }
   }
  },
  {
   "cell_type": "code",
   "execution_count": null,
   "outputs": [],
   "source": [
    "root_dir = \"./BSDS300\"\n",
    "train_data = os.path.join(root_dir, 'images/train')\n",
    "test_data = os.path.join(root_dir, 'images/test')\n",
    "labels = os.path.join(root_dir, 'human/color')\n",
    "humans = [folder for folder in os.listdir(labels) if not folder.startswith('.')]"
   ],
   "metadata": {
    "collapsed": false,
    "pycharm": {
     "name": "#%%\n"
    }
   }
  },
  {
   "cell_type": "code",
   "execution_count": null,
   "outputs": [],
   "source": [
    "def extract_labels(label_files):\n",
    "    \"\"\"Extracts the segmentation data from the .seg files\"\"\"\n",
    "    meta = {}\n",
    "    data = []\n",
    "    with open(label_files, 'r') as f:\n",
    "        matcher = re.compile('(?P<seg>^[0-9 ]+)')\n",
    "        for line in f:\n",
    "            seg_match = matcher.search(line)\n",
    "            if seg_match:\n",
    "                string_segment = seg_match.group('seg').split(' ')\n",
    "                int_segment = np.asarray(string_segment, dtype=int)\n",
    "                data.append(int_segment)\n",
    "                continue\n",
    "            elif \"data\" not in line:\n",
    "                meta_data = line.strip('\\n').split(' ', 1)\n",
    "                index, value = meta_data[0], meta_data[1]\n",
    "                meta[index] = value\n",
    "    height, width = int(meta['height']), int(meta['width'])\n",
    "    seg_num = int(meta['segments'])\n",
    "    # print(f\"User id: {meta['user']}     Image id: {meta['image']}\")\n",
    "    # print(f\"Height: {height}       Width: {width}\")\n",
    "    segmentation = np.zeros((height, width))\n",
    "    for seg in data:\n",
    "        segmentation[seg[1], seg[2]:(seg[3]+1)] = seg[0]\n",
    "    return segmentation, seg_num"
   ],
   "metadata": {
    "collapsed": false,
    "pycharm": {
     "name": "#%%\n"
    }
   }
  },
  {
   "cell_type": "code",
   "execution_count": null,
   "outputs": [],
   "source": [
    "def create_image(segmentation, seg_num):\n",
    "    \"\"\"Creates an image using extraced segmentation data\"\"\"\n",
    "    segmentation = (segmentation / seg_num) * 255\n",
    "    img = Image.fromarray(segmentation)\n",
    "    img.show()"
   ],
   "metadata": {
    "collapsed": false,
    "pycharm": {
     "name": "#%%\n"
    }
   }
  },
  {
   "cell_type": "code",
   "execution_count": null,
   "outputs": [],
   "source": [
    "for folder in humans:\n",
    "    human_path = os.path.join(labels, folder)\n",
    "    seg_files = [seg for seg in os.listdir(human_path)]\n",
    "    targets = []\n",
    "    for seg in seg_files:\n",
    "        seg_path = os.path.join(human_path, seg)\n",
    "        targets.append(extract_labels(seg_path))\n"
   ],
   "metadata": {
    "collapsed": false,
    "pycharm": {
     "name": "#%%\n"
    }
   }
  },
  {
   "cell_type": "code",
   "execution_count": null,
   "outputs": [],
   "source": [
    "test = os.path.join(labels, '1115/66053.seg')\n",
    "segmentations, seg_num = extract_labels(test)\n",
    "create_image(segmentations, seg_num)\n"
   ],
   "metadata": {
    "collapsed": false,
    "pycharm": {
     "name": "#%%\n"
    }
   }
  }
 ],
 "metadata": {
  "kernelspec": {
   "display_name": "Python 3",
   "language": "python",
   "name": "python3"
  },
  "language_info": {
   "codemirror_mode": {
    "name": "ipython",
    "version": 2
   },
   "file_extension": ".py",
   "mimetype": "text/x-python",
   "name": "python",
   "nbconvert_exporter": "python",
   "pygments_lexer": "ipython2",
   "version": "2.7.6"
  }
 },
 "nbformat": 4,
 "nbformat_minor": 0
}