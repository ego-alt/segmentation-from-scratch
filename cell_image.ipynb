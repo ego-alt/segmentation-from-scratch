{
 "cells": [
  {
   "cell_type": "code",
   "execution_count": null,
   "metadata": {
    "collapsed": true
   },
   "outputs": [],
   "source": [
    "!wget https://cildata.crbs.ucsd.edu/ccdb//telescience/home/CCDB_DATA_USER.portal/P2043/Experiment_6835/Subject_6837/Tissue_6840/Microscopy_6843/MP6843_img_full.zip\n",
    "!wget https://cildata.crbs.ucsd.edu/ccdb//telescience/home/CCDB_DATA_USER.portal/P2043/Experiment_6835/Subject_6837/Tissue_6840/Microscopy_6843/MP6843_seg.zip\n",
    "!unzip -o -d ./images MP6843_img_full.zip\n",
    "!unzip -o -d ./labels MP6843_seg.zip\n",
    "!rm *.zip"
   ]
  },
  {
   "cell_type": "code",
   "execution_count": null,
   "outputs": [],
   "source": [
    "from os.path import join\n",
    "from os import listdir\n",
    "import numpy as np\n",
    "from PIL import Image\n",
    "import torch\n",
    "from torch import nn, optim, float\n",
    "import torch.nn.functional as F\n",
    "from torch.utils.data import Dataset, DataLoader\n",
    "from torchvision import transforms, utils\n",
    "import matplotlib.pyplot as plt"
   ],
   "metadata": {
    "collapsed": false,
    "pycharm": {
     "name": "#%%\n"
    }
   }
  },
  {
   "cell_type": "code",
   "execution_count": null,
   "outputs": [],
   "source": [
    "im_root, lb_root = \"./images\", \"./labels\"\n",
    "images = [join(im_root, im) for im in sorted(listdir(im_root)) if 'w1' in im]\n",
    "labels = [join(lb_root, lb) for lb in sorted(listdir(lb_root)) if '_01' in lb]"
   ],
   "metadata": {
    "collapsed": false,
    "pycharm": {
     "name": "#%%\n"
    }
   }
  },
  {
   "cell_type": "code",
   "execution_count": null,
   "outputs": [],
   "source": [
    "class CellImages(Dataset):\n",
    "    def __init__(self, images, labels):\n",
    "        self.images, self.labels = images, labels\n",
    "        self.transform = transforms.ToTensor()\n",
    "\n",
    "    def __len__(self):\n",
    "        return len(self.images)\n",
    "\n",
    "    def __getitem__(self, ind):\n",
    "        img = self.transform(Image.open(self.images[ind]))\n",
    "        lbl = self.transform(Image.open(self.labels[ind]))\n",
    "        return img, lbl"
   ],
   "metadata": {
    "collapsed": false,
    "pycharm": {
     "name": "#%%\n"
    }
   }
  },
  {
   "cell_type": "code",
   "execution_count": null,
   "outputs": [],
   "source": [
    "train = DataLoader(CellImages(images, labels), batch_size=20)\n",
    "for i, sample in enumerate(train):\n",
    "    if i == 2:\n",
    "        img, lbl = sample\n",
    "        for ind in range(3):\n",
    "            f, ax = plt.subplots(1,2,figsize=(10,10))\n",
    "            ax[0].imshow(img[ind].numpy()[0])\n",
    "            ax[1].imshow(lbl[ind].numpy()[0])\n",
    "        plt.show()\n",
    "        break"
   ],
   "metadata": {
    "collapsed": false,
    "pycharm": {
     "name": "#%%\n"
    }
   }
  }
 ],
 "metadata": {
  "kernelspec": {
   "display_name": "Python 3",
   "language": "python",
   "name": "python3"
  },
  "language_info": {
   "codemirror_mode": {
    "name": "ipython",
    "version": 2
   },
   "file_extension": ".py",
   "mimetype": "text/x-python",
   "name": "python",
   "nbconvert_exporter": "python",
   "pygments_lexer": "ipython2",
   "version": "2.7.6"
  }
 },
 "nbformat": 4,
 "nbformat_minor": 0
}